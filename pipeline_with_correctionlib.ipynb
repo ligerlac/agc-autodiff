{
 "cells": [
  {
   "cell_type": "markdown",
   "id": "e54dff12",
   "metadata": {},
   "source": [
    "# Extending the agc-autodiff pipeline with correctionlib\n",
    "\n",
    "This notebook demonstrates how to use correctionlib in the dummy data analysis pipeline of agc-autodiff:\n",
    "- There is already a differentiable version of correctionlib from Enrico: https://github.com/eguiraud/correctionlib-gradients/\n",
    "- However, it has limitations and doesn't work for this pipeline out-of-the-box\n",
    "- This notebook demonstrates how to integrate correctionlib-gradients into the existing pipeline, what problems are encoutered, and how fix them\n",
    "- My extensions to correctionlib-gradients can be found in this PR https://github.com/eguiraud/correctionlib-gradients/pull/62"
   ]
  },
  {
   "cell_type": "code",
   "execution_count": 1,
   "id": "15000885",
   "metadata": {},
   "outputs": [],
   "source": [
    "import awkward as ak\n",
    "import hist\n",
    "import jax\n",
    "import matplotlib.pyplot as plt\n",
    "import numpy as np\n",
    "import uproot\n",
    "import vector\n",
    "import urllib\n",
    "import rich\n",
    "import correctionlib\n",
    "from correctionlib import schemav2\n",
    "from tqdm.notebook import tqdm\n",
    "\n",
    "vector.register_awkward()\n",
    "ak.jax.register_and_check()"
   ]
  },
  {
   "cell_type": "code",
   "execution_count": 2,
   "id": "cdc5ef8e-7d6e-482a-86ef-49e54a2c07a9",
   "metadata": {},
   "outputs": [],
   "source": [
    "# read in data and apply preselection\n",
    "ttbar_file = \"https://github.com/scikit-hep/scikit-hep-testdata/\"\\\n",
    "    \"raw/main/src/skhep_testdata/data/nanoAOD_2015_CMS_Open_Data_ttbar.root\"\n",
    "\n",
    "with uproot.open(ttbar_file) as f:\n",
    "    arr = f[\"Events\"].arrays([\"Jet_pt\",\"Jet_eta\", \"Jet_phi\", \"Jet_mass\"])\n",
    "\n",
    "evtfilter = ak.num(arr[\"Jet_pt\"]) >= 2\n",
    "jets = ak.zip(dict(zip([\"pt\",\"eta\", \"phi\", \"mass\"], ak.unzip(arr))), with_name=\"Momentum4D\")[evtfilter]\n",
    "jets = ak.to_backend(jets, \"jax\")\n"
   ]
  },
  {
   "cell_type": "code",
   "execution_count": 3,
   "id": "1a8a8f1d-a743-4fe4-94e3-e316fcd28a27",
   "metadata": {},
   "outputs": [
    {
     "name": "stdout",
     "output_type": "stream",
     "text": [
      "200 * {\n",
      "    Jet_pt: var * float32,\n",
      "    Jet_eta: var * float32,\n",
      "    Jet_phi: var * float32,\n",
      "    Jet_mass: var * float32\n",
      "}\n",
      "None\n",
      "140 * var * Momentum4D[\n",
      "    pt: float32,\n",
      "    eta: float32,\n",
      "    phi: float32,\n",
      "    mass: float32\n",
      "]\n",
      "None\n"
     ]
    }
   ],
   "source": [
    "print(arr.type.show())\n",
    "print(jets.type.show())"
   ]
  },
  {
   "cell_type": "code",
   "execution_count": 4,
   "id": "09cb85cc",
   "metadata": {},
   "outputs": [],
   "source": [
    "# Reminder: the original dummy jet correction function\n",
    "def correct_jets_original(jets, alpha):\n",
    "    \"\"\"perform jet energy calibration with nuisance parameter alpha\"\"\"\n",
    "    jets = ak.Array(jets)\n",
    "    new_pt = jets[\"pt\"] + 25*alpha\n",
    "    jets[\"pt\"] = new_pt\n",
    "    return jets"
   ]
  },
  {
   "cell_type": "code",
   "execution_count": 5,
   "id": "1f4b9d50",
   "metadata": {},
   "outputs": [
    {
     "data": {
      "text/html": [
       "<pre style=\"white-space:pre;overflow-x:auto;line-height:normal;font-family:Menlo,'DejaVu Sans Mono',consolas,'Courier New',monospace\">📈 <span style=\"font-weight: bold\">toy_calibration</span> <span style=\"font-weight: bold\">(</span>v1<span style=\"font-weight: bold\">)</span>\n",
       "<span style=\"font-style: italic\">No description</span>\n",
       "Node counts: <span style=\"font-weight: bold\">Formula</span>: <span style=\"color: #008080; text-decoration-color: #008080; font-weight: bold\">1</span>\n",
       "╭──────────── ▶ input ────────────╮\n",
       "│ <span style=\"font-weight: bold\">NP</span> (real)                       │\n",
       "│ <span style=\"font-style: italic\">No description</span>                  │\n",
       "│ Range: [-inf, inf), overflow ok │\n",
       "╰─────────────────────────────────╯\n",
       "╭───── ◀ output ─────╮\n",
       "│ <span style=\"font-weight: bold\">shift in pt</span> (real) │\n",
       "│ <span style=\"font-style: italic\">No description</span>     │\n",
       "╰────────────────────╯\n",
       "</pre>\n"
      ],
      "text/plain": [
       "📈 \u001b[1mtoy_calibration\u001b[0m \u001b[1m(\u001b[0mv1\u001b[1m)\u001b[0m\n",
       "\u001b[3mNo description\u001b[0m\n",
       "Node counts: \u001b[1mFormula\u001b[0m: \u001b[1;36m1\u001b[0m\n",
       "╭──────────── ▶ input ────────────╮\n",
       "│ \u001b[1mNP\u001b[0m (real)                       │\n",
       "│ \u001b[3mNo description\u001b[0m                  │\n",
       "│ Range: [-inf, inf), overflow ok │\n",
       "╰─────────────────────────────────╯\n",
       "╭───── ◀ output ─────╮\n",
       "│ \u001b[1mshift in pt\u001b[0m (real) │\n",
       "│ \u001b[3mNo description\u001b[0m     │\n",
       "╰────────────────────╯\n"
      ]
     },
     "metadata": {},
     "output_type": "display_data"
    }
   ],
   "source": [
    "# Let's implement the correction with the correctionlib framework\n",
    "schema = schemav2.Correction(\n",
    "    name=\"toy_calibration\",\n",
    "    version=1,\n",
    "    inputs=[\n",
    "        schemav2.Variable(name=\"NP\", type=\"real\")\n",
    "    ],\n",
    "    output=schemav2.Variable(name=\"shift in pt\", type=\"real\"),\n",
    "    data=schemav2.Formula(\n",
    "        nodetype=\"formula\",\n",
    "        expression=\"25*x\",\n",
    "        parser=\"TFormula\",\n",
    "        variables=[\"NP\"],\n",
    "    ),\n",
    ")\n",
    "\n",
    "rich.print(schema)"
   ]
  },
  {
   "cell_type": "code",
   "execution_count": 6,
   "id": "ff673e95",
   "metadata": {},
   "outputs": [
    {
     "name": "stdout",
     "output_type": "stream",
     "text": [
      "[[20.421875, 18.234375], ..., [46.9375, 27.71875, ..., 20.1875, 17.984375]]\n",
      "[[20.421875, 18.234375], ..., [46.9375, 27.71875, ..., 20.1875, 17.984375]]\n"
     ]
    }
   ],
   "source": [
    "# make new correct_jets() function and validate it\n",
    "corr = schema.to_evaluator()\n",
    "\n",
    "def correct_jets(jets, alpha):\n",
    "    \"\"\"perform jet energy calibration with nuisance parameter alpha\"\"\"\n",
    "    jets = ak.Array(jets)\n",
    "    new_pt = jets[\"pt\"] + corr.evaluate(alpha)\n",
    "    jets[\"pt\"] = new_pt\n",
    "    return jets\n",
    "\n",
    "jets_corrected_original = correct_jets_original(jets, 0.1)\n",
    "jets_corrected = correct_jets(jets, 0.1)\n",
    "\n",
    "print(jets_corrected_original.pt)\n",
    "print(jets_corrected.pt)"
   ]
  },
  {
   "cell_type": "code",
   "execution_count": 7,
   "id": "3ca00542-3275-49f3-9e32-8a2217a1fb51",
   "metadata": {},
   "outputs": [],
   "source": [
    "# implement the rest of the pipeline\n",
    "def get_trijet_mass(jets, temperature=100.):\n",
    "    \"\"\"\n",
    "    get trijet mass using combination with highest combined pt\n",
    "    differentiable approximation: replace argmax by softmax and return weighted sum\n",
    "    temperature -- smaller values make softmax closer to argmax (can get NaN, though)\n",
    "    \"\"\"\n",
    "    trijet = ak.combinations(jets, 3, fields=[\"j1\", \"j2\", \"j3\"])\n",
    "    trijet[\"p4\"] = trijet.j1 + trijet.j2 + trijet.j3\n",
    "    weights = ak.softmax(1/temperature * trijet.p4.pt, axis=-1)\n",
    "    return ak.sum(weights * trijet.p4.mass, axis=1)\n",
    "    # original, non-differentiable version:\n",
    "    # return trijet[\"p4\"][ak.argmax(trijet.p4.pt, axis=1, keepdims=True)].mass\n",
    "\n",
    "\n",
    "def pipeline(jets, a):\n",
    "    \"\"\"analysis pipeline: calculate mean of dijet masses\"\"\"\n",
    "    return np.mean(get_trijet_mass(correct_jets(jets, a)))\n"
   ]
  },
  {
   "cell_type": "code",
   "execution_count": 8,
   "id": "5e95ade3",
   "metadata": {},
   "outputs": [
    {
     "ename": "TracerArrayConversionError",
     "evalue": "The numpy.ndarray conversion method __array__() was called on traced array with shape float32[]\nSee https://jax.readthedocs.io/en/latest/errors.html#jax.errors.TracerArrayConversionError",
     "output_type": "error",
     "traceback": [
      "\u001b[0;31m---------------------------------------------------------------------------\u001b[0m",
      "\u001b[0;31mTracerArrayConversionError\u001b[0m                Traceback (most recent call last)",
      "Cell \u001b[0;32mIn[8], line 2\u001b[0m\n\u001b[1;32m      1\u001b[0m \u001b[38;5;66;03m# lets try to differentiate the pipeline\u001b[39;00m\n\u001b[0;32m----> 2\u001b[0m val, grad \u001b[38;5;241m=\u001b[39m \u001b[43mjax\u001b[49m\u001b[38;5;241;43m.\u001b[39;49m\u001b[43mvalue_and_grad\u001b[49m\u001b[43m(\u001b[49m\u001b[43mpipeline\u001b[49m\u001b[43m,\u001b[49m\u001b[43m \u001b[49m\u001b[43margnums\u001b[49m\u001b[38;5;241;43m=\u001b[39;49m\u001b[38;5;241;43m1\u001b[39;49m\u001b[43m)\u001b[49m\u001b[43m(\u001b[49m\u001b[43mjets\u001b[49m\u001b[43m,\u001b[49m\u001b[43m \u001b[49m\u001b[38;5;241;43m0.1\u001b[39;49m\u001b[43m)\u001b[49m  \u001b[38;5;66;03m# fails because correctionlib is non-differentiable\u001b[39;00m\n\u001b[1;32m      3\u001b[0m \u001b[38;5;28mprint\u001b[39m(\u001b[38;5;124mf\u001b[39m\u001b[38;5;124m\"\u001b[39m\u001b[38;5;124mval = \u001b[39m\u001b[38;5;132;01m{\u001b[39;00mval\u001b[38;5;132;01m}\u001b[39;00m\u001b[38;5;124m, grad = \u001b[39m\u001b[38;5;132;01m{\u001b[39;00mgrad\u001b[38;5;132;01m}\u001b[39;00m\u001b[38;5;124m\"\u001b[39m)\n",
      "    \u001b[0;31m[... skipping hidden 8 frame]\u001b[0m\n",
      "Cell \u001b[0;32mIn[7], line 18\u001b[0m, in \u001b[0;36mpipeline\u001b[0;34m(jets, a)\u001b[0m\n\u001b[1;32m     16\u001b[0m \u001b[38;5;28;01mdef\u001b[39;00m \u001b[38;5;21mpipeline\u001b[39m(jets, a):\n\u001b[1;32m     17\u001b[0m \u001b[38;5;250m    \u001b[39m\u001b[38;5;124;03m\"\"\"analysis pipeline: calculate mean of dijet masses\"\"\"\u001b[39;00m\n\u001b[0;32m---> 18\u001b[0m     \u001b[38;5;28;01mreturn\u001b[39;00m np\u001b[38;5;241m.\u001b[39mmean(get_trijet_mass(\u001b[43mcorrect_jets\u001b[49m\u001b[43m(\u001b[49m\u001b[43mjets\u001b[49m\u001b[43m,\u001b[49m\u001b[43m \u001b[49m\u001b[43ma\u001b[49m\u001b[43m)\u001b[49m))\n",
      "Cell \u001b[0;32mIn[6], line 7\u001b[0m, in \u001b[0;36mcorrect_jets\u001b[0;34m(jets, alpha)\u001b[0m\n\u001b[1;32m      5\u001b[0m \u001b[38;5;250m\u001b[39m\u001b[38;5;124;03m\"\"\"perform jet energy calibration with nuisance parameter alpha\"\"\"\u001b[39;00m\n\u001b[1;32m      6\u001b[0m jets \u001b[38;5;241m=\u001b[39m ak\u001b[38;5;241m.\u001b[39mArray(jets)\n\u001b[0;32m----> 7\u001b[0m new_pt \u001b[38;5;241m=\u001b[39m jets[\u001b[38;5;124m\"\u001b[39m\u001b[38;5;124mpt\u001b[39m\u001b[38;5;124m\"\u001b[39m] \u001b[38;5;241m+\u001b[39m \u001b[43mcorr\u001b[49m\u001b[38;5;241;43m.\u001b[39;49m\u001b[43mevaluate\u001b[49m\u001b[43m(\u001b[49m\u001b[43malpha\u001b[49m\u001b[43m)\u001b[49m\n\u001b[1;32m      8\u001b[0m jets[\u001b[38;5;124m\"\u001b[39m\u001b[38;5;124mpt\u001b[39m\u001b[38;5;124m\"\u001b[39m] \u001b[38;5;241m=\u001b[39m new_pt\n\u001b[1;32m      9\u001b[0m \u001b[38;5;28;01mreturn\u001b[39;00m jets\n",
      "File \u001b[0;32m~/Projects/IRIS-HEP/agc-autodiff/venv/lib/python3.10/site-packages/correctionlib/highlevel.py:229\u001b[0m, in \u001b[0;36mCorrection.evaluate\u001b[0;34m(self, *args)\u001b[0m\n\u001b[1;32m    222\u001b[0m     \u001b[38;5;28;01mraise\u001b[39;00m \u001b[38;5;167;01mTypeError\u001b[39;00m(\n\u001b[1;32m    223\u001b[0m         \u001b[38;5;124m\"\u001b[39m\u001b[38;5;124mCorrectionlib does not yet handle dask.array collections. \u001b[39m\u001b[38;5;124m\"\u001b[39m\n\u001b[1;32m    224\u001b[0m         \u001b[38;5;124m\"\u001b[39m\u001b[38;5;124mIf you require this functionality (i.e. you cannot or do \u001b[39m\u001b[38;5;124m\"\u001b[39m\n\u001b[1;32m    225\u001b[0m         \u001b[38;5;124m\"\u001b[39m\u001b[38;5;124mnot want to use dask_awkward/awkward arrays) please open an \u001b[39m\u001b[38;5;124m\"\u001b[39m\n\u001b[1;32m    226\u001b[0m         \u001b[38;5;124m\"\u001b[39m\u001b[38;5;124missue at https://github.com/cms-nanoAOD/correctionlib/issues.\u001b[39m\u001b[38;5;124m\"\u001b[39m\n\u001b[1;32m    227\u001b[0m     )\n\u001b[1;32m    228\u001b[0m \u001b[38;5;28;01mtry\u001b[39;00m:\n\u001b[0;32m--> 229\u001b[0m     vargs \u001b[38;5;241m=\u001b[39m [\n\u001b[1;32m    230\u001b[0m         numpy\u001b[38;5;241m.\u001b[39masarray(arg)\n\u001b[1;32m    231\u001b[0m         \u001b[38;5;28;01mfor\u001b[39;00m arg \u001b[38;5;129;01min\u001b[39;00m args\n\u001b[1;32m    232\u001b[0m         \u001b[38;5;28;01mif\u001b[39;00m \u001b[38;5;129;01mnot\u001b[39;00m \u001b[38;5;28misinstance\u001b[39m(arg, (\u001b[38;5;28mstr\u001b[39m, \u001b[38;5;28mint\u001b[39m, \u001b[38;5;28mfloat\u001b[39m))\n\u001b[1;32m    233\u001b[0m     ]\n\u001b[1;32m    234\u001b[0m \u001b[38;5;28;01mexcept\u001b[39;00m \u001b[38;5;167;01mNotImplementedError\u001b[39;00m:\n\u001b[1;32m    235\u001b[0m     \u001b[38;5;28;01mif\u001b[39;00m \u001b[38;5;28many\u001b[39m(\u001b[38;5;28mstr\u001b[39m(\u001b[38;5;28mtype\u001b[39m(arg))\u001b[38;5;241m.\u001b[39mstartswith(\u001b[38;5;124m\"\u001b[39m\u001b[38;5;124m<class \u001b[39m\u001b[38;5;124m'\u001b[39m\u001b[38;5;124mdask_awkward.\u001b[39m\u001b[38;5;124m\"\u001b[39m) \u001b[38;5;28;01mfor\u001b[39;00m arg \u001b[38;5;129;01min\u001b[39;00m args):\n",
      "File \u001b[0;32m~/Projects/IRIS-HEP/agc-autodiff/venv/lib/python3.10/site-packages/correctionlib/highlevel.py:230\u001b[0m, in \u001b[0;36m<listcomp>\u001b[0;34m(.0)\u001b[0m\n\u001b[1;32m    222\u001b[0m     \u001b[38;5;28;01mraise\u001b[39;00m \u001b[38;5;167;01mTypeError\u001b[39;00m(\n\u001b[1;32m    223\u001b[0m         \u001b[38;5;124m\"\u001b[39m\u001b[38;5;124mCorrectionlib does not yet handle dask.array collections. \u001b[39m\u001b[38;5;124m\"\u001b[39m\n\u001b[1;32m    224\u001b[0m         \u001b[38;5;124m\"\u001b[39m\u001b[38;5;124mIf you require this functionality (i.e. you cannot or do \u001b[39m\u001b[38;5;124m\"\u001b[39m\n\u001b[1;32m    225\u001b[0m         \u001b[38;5;124m\"\u001b[39m\u001b[38;5;124mnot want to use dask_awkward/awkward arrays) please open an \u001b[39m\u001b[38;5;124m\"\u001b[39m\n\u001b[1;32m    226\u001b[0m         \u001b[38;5;124m\"\u001b[39m\u001b[38;5;124missue at https://github.com/cms-nanoAOD/correctionlib/issues.\u001b[39m\u001b[38;5;124m\"\u001b[39m\n\u001b[1;32m    227\u001b[0m     )\n\u001b[1;32m    228\u001b[0m \u001b[38;5;28;01mtry\u001b[39;00m:\n\u001b[1;32m    229\u001b[0m     vargs \u001b[38;5;241m=\u001b[39m [\n\u001b[0;32m--> 230\u001b[0m         \u001b[43mnumpy\u001b[49m\u001b[38;5;241;43m.\u001b[39;49m\u001b[43masarray\u001b[49m\u001b[43m(\u001b[49m\u001b[43marg\u001b[49m\u001b[43m)\u001b[49m\n\u001b[1;32m    231\u001b[0m         \u001b[38;5;28;01mfor\u001b[39;00m arg \u001b[38;5;129;01min\u001b[39;00m args\n\u001b[1;32m    232\u001b[0m         \u001b[38;5;28;01mif\u001b[39;00m \u001b[38;5;129;01mnot\u001b[39;00m \u001b[38;5;28misinstance\u001b[39m(arg, (\u001b[38;5;28mstr\u001b[39m, \u001b[38;5;28mint\u001b[39m, \u001b[38;5;28mfloat\u001b[39m))\n\u001b[1;32m    233\u001b[0m     ]\n\u001b[1;32m    234\u001b[0m \u001b[38;5;28;01mexcept\u001b[39;00m \u001b[38;5;167;01mNotImplementedError\u001b[39;00m:\n\u001b[1;32m    235\u001b[0m     \u001b[38;5;28;01mif\u001b[39;00m \u001b[38;5;28many\u001b[39m(\u001b[38;5;28mstr\u001b[39m(\u001b[38;5;28mtype\u001b[39m(arg))\u001b[38;5;241m.\u001b[39mstartswith(\u001b[38;5;124m\"\u001b[39m\u001b[38;5;124m<class \u001b[39m\u001b[38;5;124m'\u001b[39m\u001b[38;5;124mdask_awkward.\u001b[39m\u001b[38;5;124m\"\u001b[39m) \u001b[38;5;28;01mfor\u001b[39;00m arg \u001b[38;5;129;01min\u001b[39;00m args):\n",
      "File \u001b[0;32m~/Projects/IRIS-HEP/agc-autodiff/venv/lib/python3.10/site-packages/jax/_src/core.py:705\u001b[0m, in \u001b[0;36mTracer.__array__\u001b[0;34m(self, *args, **kw)\u001b[0m\n\u001b[1;32m    704\u001b[0m \u001b[38;5;28;01mdef\u001b[39;00m \u001b[38;5;21m__array__\u001b[39m(\u001b[38;5;28mself\u001b[39m, \u001b[38;5;241m*\u001b[39margs, \u001b[38;5;241m*\u001b[39m\u001b[38;5;241m*\u001b[39mkw):\n\u001b[0;32m--> 705\u001b[0m   \u001b[38;5;28;01mraise\u001b[39;00m TracerArrayConversionError(\u001b[38;5;28mself\u001b[39m)\n",
      "\u001b[0;31mTracerArrayConversionError\u001b[0m: The numpy.ndarray conversion method __array__() was called on traced array with shape float32[]\nSee https://jax.readthedocs.io/en/latest/errors.html#jax.errors.TracerArrayConversionError"
     ]
    }
   ],
   "source": [
    "# lets try to differentiate the pipeline\n",
    "val, grad = jax.value_and_grad(pipeline, argnums=1)(jets, 0.1)  # fails because correctionlib is non-differentiable\n",
    "print(f\"val = {val}, grad = {grad}\")"
   ]
  },
  {
   "cell_type": "code",
   "execution_count": 9,
   "id": "d2045228",
   "metadata": {},
   "outputs": [
    {
     "name": "stderr",
     "output_type": "stream",
     "text": [
      "/Users/linogerlach/Projects/IRIS-HEP/agc-autodiff/venv/lib/python3.10/site-packages/awkward/_nplikes/array_module.py:63: UserWarning: Explicitly requested dtype float64 requested in asarray is not available, and will be truncated to dtype float32. To enable more dtypes, set the jax_enable_x64 configuration option or the JAX_ENABLE_X64 shell environment variable. See https://github.com/google/jax#current-gotchas for more.\n",
      "  return self._module.asarray(obj, dtype=dtype)\n",
      "/Users/linogerlach/Projects/IRIS-HEP/agc-autodiff/venv/lib/python3.10/site-packages/awkward/_nplikes/array_module.py:63: UserWarning: Explicitly requested dtype float64 requested in asarray is not available, and will be truncated to dtype float32. To enable more dtypes, set the jax_enable_x64 configuration option or the JAX_ENABLE_X64 shell environment variable. See https://github.com/google/jax#current-gotchas for more.\n",
      "  return self._module.asarray(obj, dtype=dtype)\n"
     ]
    },
    {
     "name": "stdout",
     "output_type": "stream",
     "text": [
      "val = 219.3420867919922, grad = 198.30014038085938\n"
     ]
    }
   ],
   "source": [
    "# fix it by replacing correctionlib with correctionlib_gradients\n",
    "import correctionlib_gradients\n",
    "from correctionlib_gradients import CorrectionWithGradient\n",
    "\n",
    "corr = CorrectionWithGradient(schema)\n",
    "val, grad = jax.value_and_grad(pipeline, argnums=1)(jets, 0.1)\n",
    "print(f\"val = {val}, grad = {grad}\")"
   ]
  },
  {
   "cell_type": "code",
   "execution_count": 10,
   "id": "2d1c3af3",
   "metadata": {},
   "outputs": [],
   "source": [
    "# create corrections like on AGC (https://github.com/iris-hep/analysis-grand-challenge/blob/main/analyses/cms-open-data-ttbar/make_corrections_json.py)\n",
    "import correctionlib.schemav2 as cs\n",
    "\n",
    "btag_var_category = cs.Category(\n",
    "    nodetype=\"category\",\n",
    "    input=\"direction\",\n",
    "    content=[\n",
    "        cs.CategoryItem(\n",
    "            key=\"up\",\n",
    "            value=cs.Formula(\n",
    "                nodetype=\"formula\",\n",
    "                parser=\"TFormula\",\n",
    "                variables=[\"pt\"],\n",
    "                expression=\"1.0 + (x*0.075 / 50)\"\n",
    "            )\n",
    "        ),\n",
    "        cs.CategoryItem(\n",
    "            key=\"down\",\n",
    "            value=cs.Formula(\n",
    "                nodetype=\"formula\",\n",
    "                parser=\"TFormula\",\n",
    "                variables=[\"pt\"],\n",
    "                expression=\"1.0 - (x*0.075 / 50)\"\n",
    "            )\n",
    "        ),\n",
    "    ],\n",
    "    default=1.0\n",
    ")\n",
    "\n",
    "evt_systs = cs.Correction(\n",
    "    name=\"event_systematics\",\n",
    "    description=\"Calculates a multiplicative event weight for the selected systematic variation\",\n",
    "    version=1,\n",
    "    inputs=[\n",
    "        cs.Variable(name=\"syst_name\", type=\"string\", description=\"Systematic name\"),\n",
    "        cs.Variable(name=\"direction\", type=\"string\", description=\"Variation direction\"),\n",
    "        cs.Variable(name=\"pt\", type=\"real\", description=\"One specific object pt from each event\")\n",
    "    ],\n",
    "    output=cs.Variable(name=\"weight\", type=\"real\", description=\"Multiplicative event weight\"),\n",
    "    data=cs.Category(\n",
    "        nodetype=\"category\",\n",
    "        input=\"syst_name\",\n",
    "        content=[\n",
    "            cs.CategoryItem(\n",
    "                key=\"scale_var\",\n",
    "                value=cs.Category(\n",
    "                    nodetype=\"category\",\n",
    "                    input=\"direction\",\n",
    "                    content=[\n",
    "                        cs.CategoryItem(\n",
    "                            key=\"up\",\n",
    "                            value=1.0 + 0.025\n",
    "                        ),\n",
    "                        cs.CategoryItem(\n",
    "                            key=\"down\",\n",
    "                            value=1.0 - 0.025\n",
    "                        ),\n",
    "                    ],\n",
    "                    default=1.0\n",
    "                )\n",
    "            ),\n",
    "            cs.CategoryItem(\n",
    "                key=\"btag_var\",\n",
    "                value=btag_var_category\n",
    "            ),\n",
    "        ],\n",
    "        default=1.0\n",
    "    ),\n",
    ")\n"
   ]
  },
  {
   "cell_type": "code",
   "execution_count": null,
   "id": "c5cc4129",
   "metadata": {},
   "outputs": [],
   "source": [
    "# try to create the correction with gradient\n",
    "corr_diff = CorrectionWithGradient(evt_systs)  # fails because 'Category' is not supported\n",
    "# install my version of correctionlib_gradients like so\n",
    "# pip uninstall correctionlib-gradients\n",
    "# pip install git+https://github.com/ligerlac/correctionlib-gradients.git@feat_category_with_gradients\n",
    "# and restart the kernel\n"
   ]
  },
  {
   "cell_type": "code",
   "execution_count": 41,
   "id": "88716eb4",
   "metadata": {},
   "outputs": [
    {
     "name": "stdout",
     "output_type": "stream",
     "text": [
      "expect val=1.025, grad=0\n",
      "       val = 1.025, grad = 0.0\n",
      "expect val=0.975, grad=0\n",
      "       val = 0.975, grad = 0.0\n",
      "differentiating w.r.t. category should fail\n",
      "Argument 'down' of type <class 'str'> is not a valid JAX type.\n",
      "... same for name of variation\n",
      "Argument 'scale_var' of type <class 'str'> is not a valid JAX type.\n",
      "expect val=1.075, grad=0.075/50 (0.0015)\n",
      "       val = 1.0750000476837158, grad = 0.001500000013038516\n",
      "expect val=0.925, grad=-0.075/50 (-0.0015)\n",
      "       val = 0.925000011920929, grad = -0.001500000013038516\n"
     ]
    }
   ],
   "source": [
    "# little excursion on categories with gradients\n",
    "\n",
    "# scale var does not depend on pt. should be (1.0 + 0.025) for 'up' and (1.0 - 0.025) for 'down'\n",
    "print(\"expect val=1.025, grad=0\")\n",
    "val, grad = jax.value_and_grad(corr_diff.evaluate, argnums=2)(\"scale_var\", \"up\", 50.0)\n",
    "print(f\"       val = {val}, grad = {grad}\")\n",
    "\n",
    "print(\"expect val=0.975, grad=0\")\n",
    "val, grad = jax.value_and_grad(corr_diff.evaluate, argnums=2)(\"scale_var\", \"down\", 50.0)\n",
    "print(f\"       val = {val}, grad = {grad}\")\n",
    "\n",
    "print(\"differentiating w.r.t. category should fail\")\n",
    "try:\n",
    "    val, grad = jax.value_and_grad(corr_diff.evaluate, argnums=1)(\"scale_var\", \"down\", 50.0)\n",
    "except TypeError as e:\n",
    "    print(e)\n",
    "\n",
    "print(\"... same for name of variation\")\n",
    "try:\n",
    "    val, grad = jax.value_and_grad(corr_diff.evaluate, argnums=0)(\"scale_var\", \"down\", 50.0)\n",
    "except TypeError as e:\n",
    "    print(e)\n",
    "\n",
    "print(\"expect val=1.075, grad=0.075/50 (0.0015)\")\n",
    "val, grad = jax.value_and_grad(corr_diff.evaluate, argnums=2)(\"btag_var\", \"up\", 50.0)\n",
    "print(f\"       val = {val}, grad = {grad}\")\n",
    "\n",
    "print(\"expect val=0.925, grad=-0.075/50 (-0.0015)\")\n",
    "val, grad = jax.value_and_grad(corr_diff.evaluate, argnums=2)(\"btag_var\", \"down\", 50.0)\n",
    "print(f\"       val = {val}, grad = {grad}\")\n"
   ]
  },
  {
   "cell_type": "code",
   "execution_count": 116,
   "id": "f7548e93",
   "metadata": {},
   "outputs": [],
   "source": [
    "# introduce an NP to the btag sys, so we can optimize w.r.t. it\n",
    "import correctionlib.schemav2 as cs\n",
    "\n",
    "btag_var_category = cs.Category(\n",
    "    nodetype=\"category\",\n",
    "    input=\"direction\",\n",
    "    content=[\n",
    "        cs.CategoryItem(\n",
    "            key=\"up\",\n",
    "            value=cs.Formula(\n",
    "                nodetype=\"formula\",\n",
    "                parser=\"TFormula\",\n",
    "                variables=[\"NP\"],\n",
    "                expression=\"1.0 * x*x\"\n",
    "            )\n",
    "        ),\n",
    "        cs.CategoryItem(\n",
    "            key=\"down\",\n",
    "            value=cs.Formula(\n",
    "                nodetype=\"formula\",\n",
    "                parser=\"TFormula\",\n",
    "                variables=[\"NP\"],\n",
    "                expression=\"1.0 - x*x\"\n",
    "            )\n",
    "        ),\n",
    "    ],\n",
    "    default=1.0\n",
    ")\n",
    "\n",
    "evt_systs = cs.Correction(\n",
    "    name=\"event_systematics\",\n",
    "    description=\"Calculates a multiplicative event weight for the selected systematic variation\",\n",
    "    version=1,\n",
    "    inputs=[\n",
    "        cs.Variable(name=\"syst_name\", type=\"string\", description=\"Systematic name\"),\n",
    "        cs.Variable(name=\"direction\", type=\"string\", description=\"Variation direction\"),\n",
    "        cs.Variable(name=\"pt\", type=\"real\", description=\"One specific object pt from each event\"),\n",
    "        cs.Variable(name=\"NP\", type=\"real\", description=\"Dummy nuisance parameter\"),\n",
    "    ],\n",
    "    output=cs.Variable(name=\"weight\", type=\"real\", description=\"Multiplicative event weight\"),\n",
    "    data=cs.Category(\n",
    "        nodetype=\"category\",\n",
    "        input=\"syst_name\",\n",
    "        content=[\n",
    "            cs.CategoryItem(\n",
    "                key=\"scale_var\",\n",
    "                value=cs.Category(\n",
    "                    nodetype=\"category\",\n",
    "                    input=\"direction\",\n",
    "                    content=[\n",
    "                        cs.CategoryItem(\n",
    "                            key=\"up\",\n",
    "                            value=1.0 + 0.025\n",
    "                        ),\n",
    "                        cs.CategoryItem(\n",
    "                            key=\"down\",\n",
    "                            value=1.0 - 0.025\n",
    "                        ),\n",
    "                    ],\n",
    "                    default=1.0\n",
    "                )\n",
    "            ),\n",
    "            cs.CategoryItem(\n",
    "                key=\"btag_var\",\n",
    "                value=btag_var_category\n",
    "            ),\n",
    "        ],\n",
    "        default=1.0\n",
    "    ),\n",
    ")"
   ]
  },
  {
   "cell_type": "code",
   "execution_count": 118,
   "id": "a257d38c",
   "metadata": {},
   "outputs": [
    {
     "name": "stdout",
     "output_type": "stream",
     "text": [
      "val = 0.010000000707805157, grad = 0.20000000298023224\n",
      "val = 0.9599999785423279, grad = -0.4000000059604645\n"
     ]
    }
   ],
   "source": [
    "corr_diff = CorrectionWithGradient(evt_systs)\n",
    "\n",
    "# should be 1+-NP**2 and +- 2*NP\n",
    "val, grad = jax.value_and_grad(corr_diff.evaluate, argnums=3)(\"btag_var\", \"up\", 20.0, 0.1)\n",
    "print(f\"val = {val}, grad = {grad}\")\n",
    "\n",
    "val, grad = jax.value_and_grad(corr_diff.evaluate, argnums=3)(\"btag_var\", \"down\", 20.0, 0.2)\n",
    "print(f\"val = {val}, grad = {grad}\")\n"
   ]
  },
  {
   "cell_type": "code",
   "execution_count": 190,
   "id": "fa9564a5",
   "metadata": {},
   "outputs": [
    {
     "ename": "TypeError",
     "evalue": "Unexpected input type for array: <class 'awkward.highlevel.Array'>",
     "output_type": "error",
     "traceback": [
      "\u001b[0;31m---------------------------------------------------------------------------\u001b[0m",
      "\u001b[0;31mTypeError\u001b[0m                                 Traceback (most recent call last)",
      "Cell \u001b[0;32mIn[190], line 11\u001b[0m\n\u001b[1;32m      7\u001b[0m     \u001b[38;5;28;01mreturn\u001b[39;00m jets\n\u001b[1;32m     10\u001b[0m np_vals \u001b[38;5;241m=\u001b[39m np\u001b[38;5;241m.\u001b[39mlinspace(\u001b[38;5;241m-\u001b[39m\u001b[38;5;241m5\u001b[39m, \u001b[38;5;241m5\u001b[39m, \u001b[38;5;241m20\u001b[39m) \n\u001b[0;32m---> 11\u001b[0m vals_and_grads \u001b[38;5;241m=\u001b[39m np\u001b[38;5;241m.\u001b[39marray([jax\u001b[38;5;241m.\u001b[39mvalue_and_grad(pipeline, argnums\u001b[38;5;241m=\u001b[39m\u001b[38;5;241m1\u001b[39m)(jets, a) \u001b[38;5;28;01mfor\u001b[39;00m a \u001b[38;5;129;01min\u001b[39;00m np_vals])\n\u001b[1;32m     12\u001b[0m \u001b[38;5;66;03m# fails because correctionlib-gradients doesn't handle awkward arrays\u001b[39;00m\n",
      "Cell \u001b[0;32mIn[190], line 11\u001b[0m, in \u001b[0;36m<listcomp>\u001b[0;34m(.0)\u001b[0m\n\u001b[1;32m      7\u001b[0m     \u001b[38;5;28;01mreturn\u001b[39;00m jets\n\u001b[1;32m     10\u001b[0m np_vals \u001b[38;5;241m=\u001b[39m np\u001b[38;5;241m.\u001b[39mlinspace(\u001b[38;5;241m-\u001b[39m\u001b[38;5;241m5\u001b[39m, \u001b[38;5;241m5\u001b[39m, \u001b[38;5;241m20\u001b[39m) \n\u001b[0;32m---> 11\u001b[0m vals_and_grads \u001b[38;5;241m=\u001b[39m np\u001b[38;5;241m.\u001b[39marray([\u001b[43mjax\u001b[49m\u001b[38;5;241;43m.\u001b[39;49m\u001b[43mvalue_and_grad\u001b[49m\u001b[43m(\u001b[49m\u001b[43mpipeline\u001b[49m\u001b[43m,\u001b[49m\u001b[43m \u001b[49m\u001b[43margnums\u001b[49m\u001b[38;5;241;43m=\u001b[39;49m\u001b[38;5;241;43m1\u001b[39;49m\u001b[43m)\u001b[49m\u001b[43m(\u001b[49m\u001b[43mjets\u001b[49m\u001b[43m,\u001b[49m\u001b[43m \u001b[49m\u001b[43ma\u001b[49m\u001b[43m)\u001b[49m \u001b[38;5;28;01mfor\u001b[39;00m a \u001b[38;5;129;01min\u001b[39;00m np_vals])\n\u001b[1;32m     12\u001b[0m \u001b[38;5;66;03m# fails because correctionlib-gradients doesn't handle awkward arrays\u001b[39;00m\n",
      "    \u001b[0;31m[... skipping hidden 8 frame]\u001b[0m\n",
      "Cell \u001b[0;32mIn[185], line 30\u001b[0m, in \u001b[0;36mpipeline\u001b[0;34m(jets, a)\u001b[0m\n\u001b[1;32m     28\u001b[0m \u001b[38;5;28;01mdef\u001b[39;00m \u001b[38;5;21mpipeline\u001b[39m(jets, a):\n\u001b[1;32m     29\u001b[0m \u001b[38;5;250m    \u001b[39m\u001b[38;5;124;03m\"\"\"analysis pipeline: calculate mean of dijet masses\"\"\"\u001b[39;00m\n\u001b[0;32m---> 30\u001b[0m     \u001b[38;5;28;01mreturn\u001b[39;00m np\u001b[38;5;241m.\u001b[39mmean(get_trijet_mass(\u001b[43mcorrect_jets\u001b[49m\u001b[43m(\u001b[49m\u001b[43mjets\u001b[49m\u001b[43m,\u001b[49m\u001b[43m \u001b[49m\u001b[43ma\u001b[49m\u001b[43m)\u001b[49m))\n",
      "Cell \u001b[0;32mIn[190], line 5\u001b[0m, in \u001b[0;36mcorrect_jets\u001b[0;34m(jets, alpha)\u001b[0m\n\u001b[1;32m      3\u001b[0m \u001b[38;5;250m\u001b[39m\u001b[38;5;124;03m\"\"\"perform jet energy calibration with nuisance parameter alpha\"\"\"\u001b[39;00m\n\u001b[1;32m      4\u001b[0m jets \u001b[38;5;241m=\u001b[39m ak\u001b[38;5;241m.\u001b[39mArray(jets)\n\u001b[0;32m----> 5\u001b[0m new_pt \u001b[38;5;241m=\u001b[39m jets[\u001b[38;5;124m\"\u001b[39m\u001b[38;5;124mpt\u001b[39m\u001b[38;5;124m\"\u001b[39m] \u001b[38;5;241m*\u001b[39m \u001b[43mcorr_diff\u001b[49m\u001b[38;5;241;43m.\u001b[39;49m\u001b[43mevaluate\u001b[49m\u001b[43m(\u001b[49m\u001b[38;5;124;43m\"\u001b[39;49m\u001b[38;5;124;43mbtag_var\u001b[39;49m\u001b[38;5;124;43m\"\u001b[39;49m\u001b[43m,\u001b[49m\u001b[43m \u001b[49m\u001b[38;5;124;43m\"\u001b[39;49m\u001b[38;5;124;43mup\u001b[39;49m\u001b[38;5;124;43m\"\u001b[39;49m\u001b[43m,\u001b[49m\u001b[43m \u001b[49m\u001b[43mjets\u001b[49m\u001b[43m[\u001b[49m\u001b[38;5;124;43m\"\u001b[39;49m\u001b[38;5;124;43mpt\u001b[39;49m\u001b[38;5;124;43m\"\u001b[39;49m\u001b[43m]\u001b[49m\u001b[43m,\u001b[49m\u001b[43m \u001b[49m\u001b[43malpha\u001b[49m\u001b[43m)\u001b[49m\n\u001b[1;32m      6\u001b[0m jets[\u001b[38;5;124m\"\u001b[39m\u001b[38;5;124mpt\u001b[39m\u001b[38;5;124m\"\u001b[39m] \u001b[38;5;241m=\u001b[39m new_pt\n\u001b[1;32m      7\u001b[0m \u001b[38;5;28;01mreturn\u001b[39;00m jets\n",
      "File \u001b[0;32m~/Projects/IRIS-HEP/agc-autodiff/venv/lib/python3.10/site-packages/correctionlib_gradients/_correction_with_gradient.py:23\u001b[0m, in \u001b[0;36mCorrectionWithGradient.evaluate\u001b[0;34m(self, *inputs)\u001b[0m\n\u001b[1;32m     21\u001b[0m \u001b[38;5;28;01mdef\u001b[39;00m \u001b[38;5;21mevaluate\u001b[39m(\u001b[38;5;28mself\u001b[39m, \u001b[38;5;241m*\u001b[39minputs: Value) \u001b[38;5;241m-\u001b[39m\u001b[38;5;241m>\u001b[39m jax\u001b[38;5;241m.\u001b[39mArray:\n\u001b[1;32m     22\u001b[0m     \u001b[38;5;28mself\u001b[39m\u001b[38;5;241m.\u001b[39m_check_num_inputs(inputs)\n\u001b[0;32m---> 23\u001b[0m     inputs_as_jax \u001b[38;5;241m=\u001b[39m \u001b[38;5;28;43mtuple\u001b[39;49m\u001b[43m(\u001b[49m\n\u001b[1;32m     24\u001b[0m \u001b[43m        \u001b[49m\u001b[43mi\u001b[49m\u001b[43m \u001b[49m\u001b[38;5;28;43;01mif\u001b[39;49;00m\u001b[43m \u001b[49m\u001b[38;5;28;43misinstance\u001b[39;49m\u001b[43m(\u001b[49m\u001b[43mi\u001b[49m\u001b[43m,\u001b[49m\u001b[43m \u001b[49m\u001b[38;5;28;43mstr\u001b[39;49m\u001b[43m)\u001b[49m\u001b[43m \u001b[49m\u001b[38;5;28;43;01melse\u001b[39;49;00m\u001b[43m \u001b[49m\u001b[43mjnp\u001b[49m\u001b[38;5;241;43m.\u001b[39;49m\u001b[43marray\u001b[49m\u001b[43m(\u001b[49m\u001b[43mi\u001b[49m\u001b[43m)\u001b[49m\n\u001b[1;32m     25\u001b[0m \u001b[43m        \u001b[49m\u001b[38;5;28;43;01mfor\u001b[39;49;00m\u001b[43m \u001b[49m\u001b[43mi\u001b[49m\u001b[43m \u001b[49m\u001b[38;5;129;43;01min\u001b[39;49;00m\u001b[43m \u001b[49m\u001b[43minputs\u001b[49m\n\u001b[1;32m     26\u001b[0m \u001b[43m    \u001b[49m\u001b[43m)\u001b[49m\n\u001b[1;32m     27\u001b[0m     \u001b[38;5;28mself\u001b[39m\u001b[38;5;241m.\u001b[39m_check_input_types(inputs_as_jax)\n\u001b[1;32m     28\u001b[0m     input_names \u001b[38;5;241m=\u001b[39m (v\u001b[38;5;241m.\u001b[39mname \u001b[38;5;28;01mfor\u001b[39;00m v \u001b[38;5;129;01min\u001b[39;00m \u001b[38;5;28mself\u001b[39m\u001b[38;5;241m.\u001b[39m_input_vars)\n",
      "File \u001b[0;32m~/Projects/IRIS-HEP/agc-autodiff/venv/lib/python3.10/site-packages/correctionlib_gradients/_correction_with_gradient.py:24\u001b[0m, in \u001b[0;36m<genexpr>\u001b[0;34m(.0)\u001b[0m\n\u001b[1;32m     21\u001b[0m \u001b[38;5;28;01mdef\u001b[39;00m \u001b[38;5;21mevaluate\u001b[39m(\u001b[38;5;28mself\u001b[39m, \u001b[38;5;241m*\u001b[39minputs: Value) \u001b[38;5;241m-\u001b[39m\u001b[38;5;241m>\u001b[39m jax\u001b[38;5;241m.\u001b[39mArray:\n\u001b[1;32m     22\u001b[0m     \u001b[38;5;28mself\u001b[39m\u001b[38;5;241m.\u001b[39m_check_num_inputs(inputs)\n\u001b[1;32m     23\u001b[0m     inputs_as_jax \u001b[38;5;241m=\u001b[39m \u001b[38;5;28mtuple\u001b[39m(\n\u001b[0;32m---> 24\u001b[0m         i \u001b[38;5;28;01mif\u001b[39;00m \u001b[38;5;28misinstance\u001b[39m(i, \u001b[38;5;28mstr\u001b[39m) \u001b[38;5;28;01melse\u001b[39;00m \u001b[43mjnp\u001b[49m\u001b[38;5;241;43m.\u001b[39;49m\u001b[43marray\u001b[49m\u001b[43m(\u001b[49m\u001b[43mi\u001b[49m\u001b[43m)\u001b[49m\n\u001b[1;32m     25\u001b[0m         \u001b[38;5;28;01mfor\u001b[39;00m i \u001b[38;5;129;01min\u001b[39;00m inputs\n\u001b[1;32m     26\u001b[0m     )\n\u001b[1;32m     27\u001b[0m     \u001b[38;5;28mself\u001b[39m\u001b[38;5;241m.\u001b[39m_check_input_types(inputs_as_jax)\n\u001b[1;32m     28\u001b[0m     input_names \u001b[38;5;241m=\u001b[39m (v\u001b[38;5;241m.\u001b[39mname \u001b[38;5;28;01mfor\u001b[39;00m v \u001b[38;5;129;01min\u001b[39;00m \u001b[38;5;28mself\u001b[39m\u001b[38;5;241m.\u001b[39m_input_vars)\n",
      "File \u001b[0;32m~/Projects/IRIS-HEP/agc-autodiff/venv/lib/python3.10/site-packages/jax/_src/numpy/lax_numpy.py:3458\u001b[0m, in \u001b[0;36marray\u001b[0;34m(object, dtype, copy, order, ndmin, device)\u001b[0m\n\u001b[1;32m   3456\u001b[0m   out \u001b[38;5;241m=\u001b[39m np\u001b[38;5;241m.\u001b[39marray(\u001b[38;5;28mobject\u001b[39m) \u001b[38;5;28;01mif\u001b[39;00m copy \u001b[38;5;28;01melse\u001b[39;00m np\u001b[38;5;241m.\u001b[39masarray(\u001b[38;5;28mobject\u001b[39m)\n\u001b[1;32m   3457\u001b[0m \u001b[38;5;28;01melse\u001b[39;00m:\n\u001b[0;32m-> 3458\u001b[0m   \u001b[38;5;28;01mraise\u001b[39;00m \u001b[38;5;167;01mTypeError\u001b[39;00m(\u001b[38;5;124mf\u001b[39m\u001b[38;5;124m\"\u001b[39m\u001b[38;5;124mUnexpected input type for array: \u001b[39m\u001b[38;5;132;01m{\u001b[39;00m\u001b[38;5;28mtype\u001b[39m(\u001b[38;5;28mobject\u001b[39m)\u001b[38;5;132;01m}\u001b[39;00m\u001b[38;5;124m\"\u001b[39m)\n\u001b[1;32m   3459\u001b[0m out_array: Array \u001b[38;5;241m=\u001b[39m lax_internal\u001b[38;5;241m.\u001b[39m_convert_element_type(\n\u001b[1;32m   3460\u001b[0m     out, dtype, weak_type\u001b[38;5;241m=\u001b[39mweak_type, sharding\u001b[38;5;241m=\u001b[39msharding)\n\u001b[1;32m   3461\u001b[0m \u001b[38;5;28;01mif\u001b[39;00m ndmin \u001b[38;5;241m>\u001b[39m ndim(out_array):\n",
      "\u001b[0;31mTypeError\u001b[0m: Unexpected input type for array: <class 'awkward.highlevel.Array'>"
     ]
    }
   ],
   "source": [
    "# use the new correction in the pipeline\n",
    "def correct_jets(jets, alpha):\n",
    "    \"\"\"perform jet energy calibration with nuisance parameter alpha\"\"\"\n",
    "    jets = ak.Array(jets)\n",
    "    new_pt = jets[\"pt\"] * corr_diff.evaluate(\"btag_var\", \"up\", jets[\"pt\"], alpha)\n",
    "    jets[\"pt\"] = new_pt\n",
    "    return jets\n",
    "\n",
    "\n",
    "np_vals = np.linspace(-5, 5, 20) \n",
    "vals_and_grads = np.array([jax.value_and_grad(pipeline, argnums=1)(jets, a) for a in np_vals])\n",
    "# fails because correctionlib-gradients doesn't handle awkward arrays\n"
   ]
  },
  {
   "cell_type": "code",
   "execution_count": 193,
   "id": "3048c206",
   "metadata": {},
   "outputs": [],
   "source": [
    "# work-around: flatten jet_pt, make jagged array and set content in awkward array \n",
    "def correct_jets(jets, alpha):\n",
    "    \"\"\"perform jet energy calibration with nuisance parameter alpha\"\"\"\n",
    "    # Get corrections while maintaining gradients\n",
    "    pt_flat = ak.flatten(jets[\"pt\"]).to_numpy()\n",
    "    alpha_repeated = jnp.repeat(alpha, pt_flat.size)\n",
    "    factors = corr_diff.evaluate(\"btag_var\", \"up\", pt_flat, alpha_repeated)\n",
    "    corrected_pt_flat = pt_flat * factors\n",
    "\n",
    "    # Get structure info\n",
    "    counts = ak.num(jets.pt).to_numpy()\n",
    "    split_indices = np.cumsum(counts)[:-1]\n",
    "    corrected_pt_jagged = jnp.split(corrected_pt_flat, split_indices)\n",
    "\n",
    "    # Create ListOffsetArray directly\n",
    "    offsets = np.append(0, np.cumsum(counts))\n",
    "    content = ak.contents.NumpyArray(corrected_pt_flat)\n",
    "    list_array = ak.contents.ListOffsetArray(\n",
    "        ak.index.Index(offsets),\n",
    "        content\n",
    "    )\n",
    "    jets = ak.with_field(jets, ak.Array(list_array), \"pt\")\n",
    "\n",
    "    return jets\n"
   ]
  },
  {
   "cell_type": "code",
   "execution_count": 194,
   "id": "baa3f0b7",
   "metadata": {},
   "outputs": [
    {
     "data": {
      "text/plain": [
       "<matplotlib.legend.Legend at 0x31f5b3a00>"
      ]
     },
     "execution_count": 194,
     "metadata": {},
     "output_type": "execute_result"
    },
    {
     "data": {
      "image/png": "[encoded data removed]",
      "text/plain": [
       "<Figure size 640x480 with 1 Axes>"
      ]
     },
     "metadata": {},
     "output_type": "display_data"
    }
   ],
   "source": [
    "import jax.numpy as jnp\n",
    "\n",
    "# plot mass means and gradient\n",
    "np_vals = np.linspace(-5, 5, 20) \n",
    "vals_and_grads = np.array([jax.value_and_grad(pipeline, argnums=1)(jets, a) for a in np_vals])\n",
    "\n",
    "mass_means = vals_and_grads[:, 0]\n",
    "grads = vals_and_grads[:, 1]\n",
    "\n",
    "fig, ax = plt.subplots()\n",
    "ax.plot(np_vals, mass_means, label='Mean Mass')\n",
    "ax.plot(np_vals, grads, label='Gradient')\n",
    "ax.set_xlabel(\"NP value\")\n",
    "ax.set_ylabel(\"\")\n",
    "ax.legend()"
   ]
  },
  {
   "cell_type": "code",
   "execution_count": null,
   "id": "91e12eab",
   "metadata": {},
   "outputs": [],
   "source": [
    "# we could now run gradient descent again, but there is nothing new from here on\n",
    "# Next steps:\n",
    "# - write more extensive test cases for category gradients (already found one bug that doesn't show up here)\n",
    "# - add support for awkward arrays in correctionlib_gradients (maybe using the same workaround as above?)\n"
   ]
  }
 ],
 "metadata": {
  "kernelspec": {
   "display_name": "venv",
   "language": "python",
   "name": "python3"
  },
  "language_info": {
   "codemirror_mode": {
    "name": "ipython",
    "version": 3
   },
   "file_extension": ".py",
   "mimetype": "text/x-python",
   "name": "python",
   "nbconvert_exporter": "python",
   "pygments_lexer": "ipython3",
   "version": "3.10.14"
  }
 },
 "nbformat": 4,
 "nbformat_minor": 5
}
